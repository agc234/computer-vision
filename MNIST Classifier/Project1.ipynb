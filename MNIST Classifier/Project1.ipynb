{
  "cells": [
    {
      "cell_type": "markdown",
      "metadata": {
        "id": "jkOj8G7t61MJ"
      },
      "source": [
        "## Imports"
      ]
    },
    {
      "cell_type": "code",
      "execution_count": 319,
      "metadata": {
        "id": "-vSWO3myO1UA"
      },
      "outputs": [],
      "source": [
        "# General Image Imports\n",
        "import os\n",
        "import re\n",
        "import glob\n",
        "import requests\n",
        "import numpy as np\n",
        "import pandas as pd\n",
        "import seaborn as sn\n",
        "from sklearn.metrics import confusion_matrix\n",
        "from sklearn.metrics import classification_report\n",
        "import matplotlib.pyplot as plt\n",
        "from PIL import Image\n",
        "\n",
        "# Torch vision and utils\n",
        "import torch\n",
        "from torch import nn\n",
        "import torchvision\n",
        "from pathlib import Path\n",
        "from torchvision import transforms\n",
        "from torchvision import datasets\n",
        "from torch.utils.data import DataLoader\n",
        "from torchvision.transforms import ToTensor, Lambda, Resize, Normalize, Compose\n",
        "\n",
        "# Model\n",
        "import torchvision.models as models\n",
        "\n"
      ]
    },
    {
      "cell_type": "markdown",
      "metadata": {
        "id": "ZlM1rGqqca2c"
      },
      "source": [
        "## Confusion Matrix Functions"
      ]
    },
    {
      "cell_type": "code",
      "execution_count": 351,
      "metadata": {
        "id": "xyq5oA3JceSX"
      },
      "outputs": [],
      "source": [
        "def buildConfusionMatrix(y_pred, y_true, classes):\n",
        "  cf_matrix = confusion_matrix(y_true, y_pred, classes)\n",
        "  df_cm = pd.DataFrame(cf_matrix, index = [i for i in classes], columns = [i for i in classes])\n",
        "  plt.figure(figsize = (8,7))\n",
        "  sn.heatmap(df_cm, annot=True, cmap=\"Blues\", fmt=\"d\")\n",
        "  plt.xlabel(\"Predicted Value\")\n",
        "  plt.ylabel(\"True Value\")"
      ]
    },
    {
      "cell_type": "code",
      "execution_count": 375,
      "metadata": {
        "id": "o70irudklf0V"
      },
      "outputs": [],
      "source": [
        "def getMetrics(true, pred):\n",
        "  df = pd.DataFrame(classification_report(true, pred, output_dict=True)).T\n",
        "  ovp = np.mean(df.loc[:,\"precision\"])\n",
        "  ovr = np.mean(df.loc[:,\"recall\"])\n",
        "  ova = np.mean(df.loc[\"accuracy\",:])\n",
        "  ovf = np.mean(df.loc[:,\"f1-score\"])\n",
        "  print(f\"Overall Accuracy: {ova}, Precision: {ovp}, Recall: {ovr}, F1-Score: {ovf}\")\n",
        "  return (ova, ovp, ovr, ovf)"
      ]
    },
    {
      "cell_type": "markdown",
      "metadata": {
        "id": "REjx3kaQ5uG2"
      },
      "source": [
        "## Helper Functions"
      ]
    },
    {
      "cell_type": "code",
      "execution_count": 352,
      "metadata": {
        "colab": {
          "base_uri": "https://localhost:8080/"
        },
        "id": "GCPiZlF8IGuq",
        "outputId": "4bb1bd9a-e3e9-4097-f5e9-97f23c043b83"
      },
      "outputs": [
        {
          "name": "stdout",
          "output_type": "stream",
          "text": [
            "Using cpu device\n"
          ]
        }
      ],
      "source": [
        "device = \"cuda\" if torch.cuda.is_available() else \"cpu\"\n",
        "print(\"Using {} device\".format(device))"
      ]
    },
    {
      "cell_type": "code",
      "execution_count": 353,
      "metadata": {
        "id": "zCOc-psOaMlZ"
      },
      "outputs": [],
      "source": [
        "def storeImagePairs(img_dir):\n",
        "    dirpath = img_dir + '/*'\n",
        "    filenames = glob.glob(dirpath)\n",
        "    pairs = []\n",
        "    images = []\n",
        "    labels = []\n",
        "    for filename in filenames:\n",
        "      img_path = os.path.join(img_dir, filename)\n",
        "      PIL_img = Image.open(img_path)\n",
        "      fn = Path(img_path).stem\n",
        "      label = re.sub(r'[0-9]+', '', fn)\n",
        "      pair = (PIL_img, label)\n",
        "      pairs.append(pair)\n",
        "      images.append(PIL_img)\n",
        "      labels.append(label)\n",
        "      #print(label)\n",
        "    return pairs, labels, images\n"
      ]
    },
    {
      "cell_type": "code",
      "execution_count": 354,
      "metadata": {
        "id": "YMRCp4oDQNJD"
      },
      "outputs": [],
      "source": [
        "def genpred(tensor_img, model, classes, top5 = 0):\n",
        "  model.eval()\n",
        "  with torch.no_grad():\n",
        "    probs = model(tensor_img)\n",
        "    percentage = torch.nn.functional.softmax(probs, dim=1)[0] * 100\n",
        "    if (top5 == 1):\n",
        "      # gets top 5\n",
        "      _, indices = torch.sort(probs, descending=True)\n",
        "      top5 = [(classes[idx.item()], percentage[idx].item()) for idx in indices[0][:5]]\n",
        "      #print(top5)\n",
        "      return top5\n",
        "    else:\n",
        "      _, index = torch.max(probs, 1)\n",
        "      return classes[index.item()]\n"
      ]
    },
    {
      "cell_type": "code",
      "execution_count": 355,
      "metadata": {
        "id": "shdIdcEU004n"
      },
      "outputs": [],
      "source": [
        "def pred(img, model, classes, top5 = 0):\n",
        "  min_img_size = 300\n",
        "  transform_pipeline = Compose([Resize(min_img_size),\n",
        "                                ToTensor(),\n",
        "                                Normalize(mean=[0.485, 0.456, 0.406], std=[0.229, 0.224, 0.225])\n",
        "                              ])\n",
        "  tensor_img = transform_pipeline(img)\n",
        "  tensor_img = tensor_img.unsqueeze(0)\n",
        "  Y = genpred(tensor_img, model, classes, top5)\n",
        "  return Y"
      ]
    },
    {
      "cell_type": "code",
      "execution_count": 356,
      "metadata": {
        "id": "PdazzhriRDiZ"
      },
      "outputs": [],
      "source": [
        "def predictions(images, model, labels):\n",
        "  preds = []\n",
        "  for img in images:\n",
        "    Y = pred(img, model, labels)\n",
        "    preds.append(Y)\n",
        "  return preds"
      ]
    },
    {
      "cell_type": "code",
      "execution_count": 357,
      "metadata": {
        "id": "zsoRoAkSEMNA"
      },
      "outputs": [],
      "source": [
        "def train(dataloader, model, loss_fn, optimizer):\n",
        "    size = len(dataloader.dataset)\n",
        "    model.train()\n",
        "    for batch, (X, y) in enumerate(dataloader):\n",
        "        X, y = X.to(device), y.to(device)\n",
        "        \n",
        "        # Compute prediction error\n",
        "        pred = model(X)\n",
        "        loss = loss_fn(pred, y)\n",
        "\n",
        "        # Backpropagation\n",
        "        optimizer.zero_grad()\n",
        "        loss.backward()\n",
        "        optimizer.step()\n",
        "\n",
        "        if batch % 100 == 0:\n",
        "            loss, current = loss.item(), batch * len(X)\n",
        "            print(f\"loss: {loss:>7f}  [{current:>5d}/{size:>5d}]\")"
      ]
    },
    {
      "cell_type": "code",
      "execution_count": 358,
      "metadata": {
        "id": "C59zTdbuXzmN"
      },
      "outputs": [],
      "source": [
        "def test(dataloader, model, loss_fn):\n",
        "    size = len(dataloader.dataset)\n",
        "    num_batches = len(dataloader)\n",
        "    model.eval()\n",
        "    preds = []\n",
        "    truths = []\n",
        "    test_loss, correct = 0, 0\n",
        "    with torch.no_grad():\n",
        "        for X, y in dataloader:\n",
        "            X, y = X.to(device), y.to(device)\n",
        "            output = model(X)\n",
        "            pred = (torch.max(torch.exp(output), 1)[1]).data.cpu().numpy()\n",
        "            preds.extend(pred)\n",
        "\n",
        "            truth = y.data.cpu().numpy()\n",
        "            truths.extend(truth)\n",
        "\n",
        "            test_loss += loss_fn(output, y).item()\n",
        "            correct += (output.argmax(1) == y).type(torch.float).sum().item()\n",
        "    test_loss /= num_batches\n",
        "    correct /= size\n",
        "    print(f\"Test Error: \\n Accuracy: {(100*correct):>0.1f}%, Avg loss: {test_loss:>8f} \\n\")\n",
        "    return preds, truths\n"
      ]
    },
    {
      "cell_type": "markdown",
      "metadata": {
        "id": "962AqdSl_J58"
      },
      "source": [
        "## ResNet50 Input Data Prep\n",
        "\n",
        "Make sure images are labeled by filename. For example a second image labeled bald eagle should be called `bald_eagle2.(*)`. `(*)` means any image extension.\n",
        "\n",
        "Upload all images to an `images` folder in Colab. Click the folder icon (files) to the right and right-click to create a new folder called 'images'. Then upload the images into the folder. Update the `IMAGE_DIR` constant below if the filepath differs.\n",
        "\n",
        "Then run the remaining cells."
      ]
    },
    {
      "cell_type": "code",
      "execution_count": null,
      "metadata": {
        "colab": {
          "base_uri": "https://localhost:8080/"
        },
        "id": "CfwvGA5SsJGE",
        "outputId": "9f77edb5-7d8c-4db2-8afd-da28c59d4061"
      },
      "outputs": [],
      "source": [
        "LABELS_URL = 'https://s3.amazonaws.com/deep-learning-models/image-models/imagenet_class_index.json'\n",
        "response = requests.get(LABELS_URL)\n",
        "imagenet_labels = {int(key): value[1] for key, value in response.json().items()}\n",
        "print(imagenet_labels)"
      ]
    },
    {
      "cell_type": "code",
      "execution_count": 360,
      "metadata": {
        "id": "cTAUK4CKmifS"
      },
      "outputs": [],
      "source": [
        "IMAGE_DIR = \"/content/images\"\n",
        "_, inlabels, images = storeImagePairs(IMAGE_DIR)"
      ]
    },
    {
      "cell_type": "markdown",
      "metadata": {
        "id": "Dl_NCFo66rou"
      },
      "source": [
        "## ResNet50 Classifier"
      ]
    },
    {
      "cell_type": "code",
      "execution_count": 361,
      "metadata": {
        "colab": {
          "base_uri": "https://localhost:8080/"
        },
        "id": "QE6BXHcRe1Zp",
        "outputId": "1f88aa44-d548-4f11-b7af-ab5f353d54da"
      },
      "outputs": [
        {
          "name": "stdout",
          "output_type": "stream",
          "text": [
            "['fly', 'fly', 'flamingo', 'goose', 'beagle', 'flamingo', 'bee', 'beagle', 'goose', 'bee']\n",
            "['fly', 'fly', 'flamingo', 'goose', 'beagle', 'flamingo', 'bee', 'beagle', 'goose', 'bee']\n"
          ]
        }
      ],
      "source": [
        "resnet50 = models.resnet50(pretrained=True)\n",
        "resnet50preds = predictions(images, resnet50, imagenet_labels)\n",
        "\n",
        "print(resnet50preds)\n",
        "print(inlabels)"
      ]
    },
    {
      "cell_type": "code",
      "execution_count": 362,
      "metadata": {
        "colab": {
          "base_uri": "https://localhost:8080/",
          "height": 446
        },
        "id": "Nd74wI_W1-xN",
        "outputId": "341b2c24-7518-4312-8859-642873d664de"
      },
      "outputs": [
        {
          "data": {
            "image/png": "[encoded data removed]",
            "text/plain": [
              "<Figure size 576x504 with 2 Axes>"
            ]
          },
          "metadata": {
            "needs_background": "light"
          },
          "output_type": "display_data"
        }
      ],
      "source": [
        "classes_used = ['fly', 'flamingo', 'goose', 'beagle', 'bee']\n",
        "rn5cf = buildConfusionMatrix(inlabels, resnet50preds, classes_used)"
      ]
    },
    {
      "cell_type": "code",
      "execution_count": 373,
      "metadata": {
        "colab": {
          "base_uri": "https://localhost:8080/"
        },
        "id": "JYWf48Peiw5O",
        "outputId": "ac6f6ae5-5e57-4e82-8965-d6ae06157142"
      },
      "outputs": [
        {
          "name": "stdout",
          "output_type": "stream",
          "text": [
            "Overall Accuracy: 1.0, Precision: 1.0, Recall: 1.0, F1-Score: 1.0\n"
          ]
        }
      ],
      "source": [
        "df = getMetrics(inlabels, resnet50preds)"
      ]
    },
    {
      "cell_type": "code",
      "execution_count": 390,
      "metadata": {
        "colab": {
          "base_uri": "https://localhost:8080/"
        },
        "id": "ZyOgkQ7lwXLH",
        "outputId": "446313dd-5b34-49e6-9399-bf4aed258d2c"
      },
      "outputs": [
        {
          "name": "stdout",
          "output_type": "stream",
          "text": [
            "ResNet(\n",
            "  (conv1): Conv2d(3, 64, kernel_size=(7, 7), stride=(2, 2), padding=(3, 3), bias=False)\n",
            "  (bn1): BatchNorm2d(64, eps=1e-05, momentum=0.1, affine=True, track_running_stats=True)\n",
            "  (relu): ReLU(inplace=True)\n",
            "  (maxpool): MaxPool2d(kernel_size=3, stride=2, padding=1, dilation=1, ceil_mode=False)\n",
            "  (layer1): Sequential(\n",
            "    (0): Bottleneck(\n",
            "      (conv1): Conv2d(64, 64, kernel_size=(1, 1), stride=(1, 1), bias=False)\n",
            "      (bn1): BatchNorm2d(64, eps=1e-05, momentum=0.1, affine=True, track_running_stats=True)\n",
            "      (conv2): Conv2d(64, 64, kernel_size=(3, 3), stride=(1, 1), padding=(1, 1), bias=False)\n",
            "      (bn2): BatchNorm2d(64, eps=1e-05, momentum=0.1, affine=True, track_running_stats=True)\n",
            "      (conv3): Conv2d(64, 256, kernel_size=(1, 1), stride=(1, 1), bias=False)\n",
            "      (bn3): BatchNorm2d(256, eps=1e-05, momentum=0.1, affine=True, track_running_stats=True)\n",
            "      (relu): ReLU(inplace=True)\n",
            "      (downsample): Sequential(\n",
            "        (0): Conv2d(64, 256, kernel_size=(1, 1), stride=(1, 1), bias=False)\n",
            "        (1): BatchNorm2d(256, eps=1e-05, momentum=0.1, affine=True, track_running_stats=True)\n",
            "      )\n",
            "    )\n",
            "    (1): Bottleneck(\n",
            "      (conv1): Conv2d(256, 64, kernel_size=(1, 1), stride=(1, 1), bias=False)\n",
            "      (bn1): BatchNorm2d(64, eps=1e-05, momentum=0.1, affine=True, track_running_stats=True)\n",
            "      (conv2): Conv2d(64, 64, kernel_size=(3, 3), stride=(1, 1), padding=(1, 1), bias=False)\n",
            "      (bn2): BatchNorm2d(64, eps=1e-05, momentum=0.1, affine=True, track_running_stats=True)\n",
            "      (conv3): Conv2d(64, 256, kernel_size=(1, 1), stride=(1, 1), bias=False)\n",
            "      (bn3): BatchNorm2d(256, eps=1e-05, momentum=0.1, affine=True, track_running_stats=True)\n",
            "      (relu): ReLU(inplace=True)\n",
            "    )\n",
            "    (2): Bottleneck(\n",
            "      (conv1): Conv2d(256, 64, kernel_size=(1, 1), stride=(1, 1), bias=False)\n",
            "      (bn1): BatchNorm2d(64, eps=1e-05, momentum=0.1, affine=True, track_running_stats=True)\n",
            "      (conv2): Conv2d(64, 64, kernel_size=(3, 3), stride=(1, 1), padding=(1, 1), bias=False)\n",
            "      (bn2): BatchNorm2d(64, eps=1e-05, momentum=0.1, affine=True, track_running_stats=True)\n",
            "      (conv3): Conv2d(64, 256, kernel_size=(1, 1), stride=(1, 1), bias=False)\n",
            "      (bn3): BatchNorm2d(256, eps=1e-05, momentum=0.1, affine=True, track_running_stats=True)\n",
            "      (relu): ReLU(inplace=True)\n",
            "    )\n",
            "  )\n",
            "  (layer2): Sequential(\n",
            "    (0): Bottleneck(\n",
            "      (conv1): Conv2d(256, 128, kernel_size=(1, 1), stride=(1, 1), bias=False)\n",
            "      (bn1): BatchNorm2d(128, eps=1e-05, momentum=0.1, affine=True, track_running_stats=True)\n",
            "      (conv2): Conv2d(128, 128, kernel_size=(3, 3), stride=(2, 2), padding=(1, 1), bias=False)\n",
            "      (bn2): BatchNorm2d(128, eps=1e-05, momentum=0.1, affine=True, track_running_stats=True)\n",
            "      (conv3): Conv2d(128, 512, kernel_size=(1, 1), stride=(1, 1), bias=False)\n",
            "      (bn3): BatchNorm2d(512, eps=1e-05, momentum=0.1, affine=True, track_running_stats=True)\n",
            "      (relu): ReLU(inplace=True)\n",
            "      (downsample): Sequential(\n",
            "        (0): Conv2d(256, 512, kernel_size=(1, 1), stride=(2, 2), bias=False)\n",
            "        (1): BatchNorm2d(512, eps=1e-05, momentum=0.1, affine=True, track_running_stats=True)\n",
            "      )\n",
            "    )\n",
            "    (1): Bottleneck(\n",
            "      (conv1): Conv2d(512, 128, kernel_size=(1, 1), stride=(1, 1), bias=False)\n",
            "      (bn1): BatchNorm2d(128, eps=1e-05, momentum=0.1, affine=True, track_running_stats=True)\n",
            "      (conv2): Conv2d(128, 128, kernel_size=(3, 3), stride=(1, 1), padding=(1, 1), bias=False)\n",
            "      (bn2): BatchNorm2d(128, eps=1e-05, momentum=0.1, affine=True, track_running_stats=True)\n",
            "      (conv3): Conv2d(128, 512, kernel_size=(1, 1), stride=(1, 1), bias=False)\n",
            "      (bn3): BatchNorm2d(512, eps=1e-05, momentum=0.1, affine=True, track_running_stats=True)\n",
            "      (relu): ReLU(inplace=True)\n",
            "    )\n",
            "    (2): Bottleneck(\n",
            "      (conv1): Conv2d(512, 128, kernel_size=(1, 1), stride=(1, 1), bias=False)\n",
            "      (bn1): BatchNorm2d(128, eps=1e-05, momentum=0.1, affine=True, track_running_stats=True)\n",
            "      (conv2): Conv2d(128, 128, kernel_size=(3, 3), stride=(1, 1), padding=(1, 1), bias=False)\n",
            "      (bn2): BatchNorm2d(128, eps=1e-05, momentum=0.1, affine=True, track_running_stats=True)\n",
            "      (conv3): Conv2d(128, 512, kernel_size=(1, 1), stride=(1, 1), bias=False)\n",
            "      (bn3): BatchNorm2d(512, eps=1e-05, momentum=0.1, affine=True, track_running_stats=True)\n",
            "      (relu): ReLU(inplace=True)\n",
            "    )\n",
            "    (3): Bottleneck(\n",
            "      (conv1): Conv2d(512, 128, kernel_size=(1, 1), stride=(1, 1), bias=False)\n",
            "      (bn1): BatchNorm2d(128, eps=1e-05, momentum=0.1, affine=True, track_running_stats=True)\n",
            "      (conv2): Conv2d(128, 128, kernel_size=(3, 3), stride=(1, 1), padding=(1, 1), bias=False)\n",
            "      (bn2): BatchNorm2d(128, eps=1e-05, momentum=0.1, affine=True, track_running_stats=True)\n",
            "      (conv3): Conv2d(128, 512, kernel_size=(1, 1), stride=(1, 1), bias=False)\n",
            "      (bn3): BatchNorm2d(512, eps=1e-05, momentum=0.1, affine=True, track_running_stats=True)\n",
            "      (relu): ReLU(inplace=True)\n",
            "    )\n",
            "  )\n",
            "  (layer3): Sequential(\n",
            "    (0): Bottleneck(\n",
            "      (conv1): Conv2d(512, 256, kernel_size=(1, 1), stride=(1, 1), bias=False)\n",
            "      (bn1): BatchNorm2d(256, eps=1e-05, momentum=0.1, affine=True, track_running_stats=True)\n",
            "      (conv2): Conv2d(256, 256, kernel_size=(3, 3), stride=(2, 2), padding=(1, 1), bias=False)\n",
            "      (bn2): BatchNorm2d(256, eps=1e-05, momentum=0.1, affine=True, track_running_stats=True)\n",
            "      (conv3): Conv2d(256, 1024, kernel_size=(1, 1), stride=(1, 1), bias=False)\n",
            "      (bn3): BatchNorm2d(1024, eps=1e-05, momentum=0.1, affine=True, track_running_stats=True)\n",
            "      (relu): ReLU(inplace=True)\n",
            "      (downsample): Sequential(\n",
            "        (0): Conv2d(512, 1024, kernel_size=(1, 1), stride=(2, 2), bias=False)\n",
            "        (1): BatchNorm2d(1024, eps=1e-05, momentum=0.1, affine=True, track_running_stats=True)\n",
            "      )\n",
            "    )\n",
            "    (1): Bottleneck(\n",
            "      (conv1): Conv2d(1024, 256, kernel_size=(1, 1), stride=(1, 1), bias=False)\n",
            "      (bn1): BatchNorm2d(256, eps=1e-05, momentum=0.1, affine=True, track_running_stats=True)\n",
            "      (conv2): Conv2d(256, 256, kernel_size=(3, 3), stride=(1, 1), padding=(1, 1), bias=False)\n",
            "      (bn2): BatchNorm2d(256, eps=1e-05, momentum=0.1, affine=True, track_running_stats=True)\n",
            "      (conv3): Conv2d(256, 1024, kernel_size=(1, 1), stride=(1, 1), bias=False)\n",
            "      (bn3): BatchNorm2d(1024, eps=1e-05, momentum=0.1, affine=True, track_running_stats=True)\n",
            "      (relu): ReLU(inplace=True)\n",
            "    )\n",
            "    (2): Bottleneck(\n",
            "      (conv1): Conv2d(1024, 256, kernel_size=(1, 1), stride=(1, 1), bias=False)\n",
            "      (bn1): BatchNorm2d(256, eps=1e-05, momentum=0.1, affine=True, track_running_stats=True)\n",
            "      (conv2): Conv2d(256, 256, kernel_size=(3, 3), stride=(1, 1), padding=(1, 1), bias=False)\n",
            "      (bn2): BatchNorm2d(256, eps=1e-05, momentum=0.1, affine=True, track_running_stats=True)\n",
            "      (conv3): Conv2d(256, 1024, kernel_size=(1, 1), stride=(1, 1), bias=False)\n",
            "      (bn3): BatchNorm2d(1024, eps=1e-05, momentum=0.1, affine=True, track_running_stats=True)\n",
            "      (relu): ReLU(inplace=True)\n",
            "    )\n",
            "    (3): Bottleneck(\n",
            "      (conv1): Conv2d(1024, 256, kernel_size=(1, 1), stride=(1, 1), bias=False)\n",
            "      (bn1): BatchNorm2d(256, eps=1e-05, momentum=0.1, affine=True, track_running_stats=True)\n",
            "      (conv2): Conv2d(256, 256, kernel_size=(3, 3), stride=(1, 1), padding=(1, 1), bias=False)\n",
            "      (bn2): BatchNorm2d(256, eps=1e-05, momentum=0.1, affine=True, track_running_stats=True)\n",
            "      (conv3): Conv2d(256, 1024, kernel_size=(1, 1), stride=(1, 1), bias=False)\n",
            "      (bn3): BatchNorm2d(1024, eps=1e-05, momentum=0.1, affine=True, track_running_stats=True)\n",
            "      (relu): ReLU(inplace=True)\n",
            "    )\n",
            "    (4): Bottleneck(\n",
            "      (conv1): Conv2d(1024, 256, kernel_size=(1, 1), stride=(1, 1), bias=False)\n",
            "      (bn1): BatchNorm2d(256, eps=1e-05, momentum=0.1, affine=True, track_running_stats=True)\n",
            "      (conv2): Conv2d(256, 256, kernel_size=(3, 3), stride=(1, 1), padding=(1, 1), bias=False)\n",
            "      (bn2): BatchNorm2d(256, eps=1e-05, momentum=0.1, affine=True, track_running_stats=True)\n",
            "      (conv3): Conv2d(256, 1024, kernel_size=(1, 1), stride=(1, 1), bias=False)\n",
            "      (bn3): BatchNorm2d(1024, eps=1e-05, momentum=0.1, affine=True, track_running_stats=True)\n",
            "      (relu): ReLU(inplace=True)\n",
            "    )\n",
            "    (5): Bottleneck(\n",
            "      (conv1): Conv2d(1024, 256, kernel_size=(1, 1), stride=(1, 1), bias=False)\n",
            "      (bn1): BatchNorm2d(256, eps=1e-05, momentum=0.1, affine=True, track_running_stats=True)\n",
            "      (conv2): Conv2d(256, 256, kernel_size=(3, 3), stride=(1, 1), padding=(1, 1), bias=False)\n",
            "      (bn2): BatchNorm2d(256, eps=1e-05, momentum=0.1, affine=True, track_running_stats=True)\n",
            "      (conv3): Conv2d(256, 1024, kernel_size=(1, 1), stride=(1, 1), bias=False)\n",
            "      (bn3): BatchNorm2d(1024, eps=1e-05, momentum=0.1, affine=True, track_running_stats=True)\n",
            "      (relu): ReLU(inplace=True)\n",
            "    )\n",
            "  )\n",
            "  (layer4): Sequential(\n",
            "    (0): Bottleneck(\n",
            "      (conv1): Conv2d(1024, 512, kernel_size=(1, 1), stride=(1, 1), bias=False)\n",
            "      (bn1): BatchNorm2d(512, eps=1e-05, momentum=0.1, affine=True, track_running_stats=True)\n",
            "      (conv2): Conv2d(512, 512, kernel_size=(3, 3), stride=(2, 2), padding=(1, 1), bias=False)\n",
            "      (bn2): BatchNorm2d(512, eps=1e-05, momentum=0.1, affine=True, track_running_stats=True)\n",
            "      (conv3): Conv2d(512, 2048, kernel_size=(1, 1), stride=(1, 1), bias=False)\n",
            "      (bn3): BatchNorm2d(2048, eps=1e-05, momentum=0.1, affine=True, track_running_stats=True)\n",
            "      (relu): ReLU(inplace=True)\n",
            "      (downsample): Sequential(\n",
            "        (0): Conv2d(1024, 2048, kernel_size=(1, 1), stride=(2, 2), bias=False)\n",
            "        (1): BatchNorm2d(2048, eps=1e-05, momentum=0.1, affine=True, track_running_stats=True)\n",
            "      )\n",
            "    )\n",
            "    (1): Bottleneck(\n",
            "      (conv1): Conv2d(2048, 512, kernel_size=(1, 1), stride=(1, 1), bias=False)\n",
            "      (bn1): BatchNorm2d(512, eps=1e-05, momentum=0.1, affine=True, track_running_stats=True)\n",
            "      (conv2): Conv2d(512, 512, kernel_size=(3, 3), stride=(1, 1), padding=(1, 1), bias=False)\n",
            "      (bn2): BatchNorm2d(512, eps=1e-05, momentum=0.1, affine=True, track_running_stats=True)\n",
            "      (conv3): Conv2d(512, 2048, kernel_size=(1, 1), stride=(1, 1), bias=False)\n",
            "      (bn3): BatchNorm2d(2048, eps=1e-05, momentum=0.1, affine=True, track_running_stats=True)\n",
            "      (relu): ReLU(inplace=True)\n",
            "    )\n",
            "    (2): Bottleneck(\n",
            "      (conv1): Conv2d(2048, 512, kernel_size=(1, 1), stride=(1, 1), bias=False)\n",
            "      (bn1): BatchNorm2d(512, eps=1e-05, momentum=0.1, affine=True, track_running_stats=True)\n",
            "      (conv2): Conv2d(512, 512, kernel_size=(3, 3), stride=(1, 1), padding=(1, 1), bias=False)\n",
            "      (bn2): BatchNorm2d(512, eps=1e-05, momentum=0.1, affine=True, track_running_stats=True)\n",
            "      (conv3): Conv2d(512, 2048, kernel_size=(1, 1), stride=(1, 1), bias=False)\n",
            "      (bn3): BatchNorm2d(2048, eps=1e-05, momentum=0.1, affine=True, track_running_stats=True)\n",
            "      (relu): ReLU(inplace=True)\n",
            "    )\n",
            "  )\n",
            "  (avgpool): AdaptiveAvgPool2d(output_size=(1, 1))\n",
            "  (fc): Linear(in_features=2048, out_features=1000, bias=True)\n",
            ")\n"
          ]
        }
      ],
      "source": [
        "print(resnet50)"
      ]
    },
    {
      "cell_type": "markdown",
      "metadata": {
        "id": "_sA4NIxrn8Ef"
      },
      "source": [
        "For the prebuilt ResNet50 network imported from PyTorch, it uses a convolutional layer followed by a pooling layer. Then pipes the output through several layers of sequential convolution layers followed by 2D batch normalizations. There are a total of 4 layers in the middle. For this network it outputs 1000 features, corresponding to a probability of 1 of the 1000 imagenet classes.\n",
        "\n",
        "In general ResNets can be described as sets of convolutional layers that bypass the input on a set interval of convolutions. This resolves the issue of vanishing gradients, as if an output gradient is 0 from the previous layer, the model can use the gradient several layers back to inform the new input."
      ]
    },
    {
      "cell_type": "markdown",
      "metadata": {
        "id": "5U8myKHZSVwY"
      },
      "source": [
        "## ResNet18 Model Training w/ MNIST"
      ]
    },
    {
      "cell_type": "code",
      "execution_count": 364,
      "metadata": {
        "id": "VuQJcfcfI7po"
      },
      "outputs": [],
      "source": [
        "# Hyperparameters\n",
        "learning_rate = 1e-3\n",
        "batch_size = 64\n",
        "epochs = 1  # Training for 1 Epoch cause I don't feel like waiting forever"
      ]
    },
    {
      "cell_type": "code",
      "execution_count": 380,
      "metadata": {
        "colab": {
          "base_uri": "https://localhost:8080/"
        },
        "id": "wwJDCwlVSUyd",
        "outputId": "43ccdae2-094d-4c89-89de-dd8de3b9eb00"
      },
      "outputs": [
        {
          "name": "stdout",
          "output_type": "stream",
          "text": [
            "Dataset MNIST\n",
            "    Number of datapoints: 60000\n",
            "    Root location: /content/\n",
            "    Split: Train\n",
            "    StandardTransform\n",
            "Transform: Compose(\n",
            "               ToTensor()\n",
            "               Normalize(mean=(0.5,), std=(0.5,))\n",
            "           )\n",
            "Dataset MNIST\n",
            "    Number of datapoints: 10000\n",
            "    Root location: /content/\n",
            "    Split: Test\n",
            "    StandardTransform\n",
            "Transform: Compose(\n",
            "               ToTensor()\n",
            "               Normalize(mean=(0.5,), std=(0.5,))\n",
            "           )\n"
          ]
        }
      ],
      "source": [
        "# Downloads the MNIST training set and test set. Uses Transforms to normalize and convert to tensors.\n",
        "transform = Compose([ToTensor(), Normalize((0.5,), (0.5,))])\n",
        "train_data = datasets.MNIST('/content/',train=True, download=True, transform = transform)\n",
        "test_data = datasets.MNIST('/content/',train=False, download=True, transform = transform)\n",
        "print(train_data)\n",
        "print(test_data)"
      ]
    },
    {
      "cell_type": "code",
      "execution_count": 381,
      "metadata": {
        "id": "pb-2pRXFsZ9N"
      },
      "outputs": [],
      "source": [
        "# Converts tensors into iterable batches that will be fed sequentially to the network\n",
        "train_dataloader = DataLoader(train_data, batch_size=batch_size)\n",
        "test_dataloader = DataLoader(test_data, batch_size=batch_size)"
      ]
    },
    {
      "cell_type": "code",
      "execution_count": 367,
      "metadata": {
        "colab": {
          "base_uri": "https://localhost:8080/"
        },
        "id": "NdP55JSJqNi1",
        "outputId": "7cdd179f-b608-4049-da10-4240d39a9ed2"
      },
      "outputs": [
        {
          "name": "stdout",
          "output_type": "stream",
          "text": [
            "10000\n",
            "157\n"
          ]
        }
      ],
      "source": [
        "print(len(test_dataloader.dataset))\n",
        "print(len(test_dataloader))"
      ]
    },
    {
      "cell_type": "code",
      "execution_count": 382,
      "metadata": {
        "id": "k0gRYrPz2bd9"
      },
      "outputs": [],
      "source": [
        "# Uses prebuilt resnet18 model from Pytorch, but modifies the first convolutional layer to handle single-channel (gray-scale) images.\n",
        "resnet18 = models.resnet18()\n",
        "resnet18.conv1 = torch.nn.Conv2d(1, batch_size, kernel_size=(7, 7), stride=(2, 2), padding=(3, 3), bias=False)"
      ]
    },
    {
      "cell_type": "code",
      "execution_count": 385,
      "metadata": {
        "id": "ClComjonEh-C"
      },
      "outputs": [],
      "source": [
        "# Sets the model, loss function, and optimizer to use when training.\n",
        "model = resnet18\n",
        "loss_fn = nn.CrossEntropyLoss()\n",
        "optimizer = torch.optim.SGD(model.parameters(), lr=learning_rate)"
      ]
    },
    {
      "cell_type": "code",
      "execution_count": 384,
      "metadata": {
        "colab": {
          "base_uri": "https://localhost:8080/"
        },
        "id": "jjb8E9-HzDvQ",
        "outputId": "9ae14f4a-5db8-442a-b570-4ff8d0837d05"
      },
      "outputs": [
        {
          "name": "stdout",
          "output_type": "stream",
          "text": [
            "Epoch 1\n",
            "-------------------------------\n",
            "loss: 6.905941  [    0/60000]\n",
            "loss: 2.044286  [ 6400/60000]\n",
            "loss: 0.838306  [12800/60000]\n",
            "loss: 0.580539  [19200/60000]\n",
            "loss: 0.391294  [25600/60000]\n",
            "loss: 0.329491  [32000/60000]\n",
            "loss: 0.199647  [38400/60000]\n",
            "loss: 0.320960  [44800/60000]\n",
            "loss: 0.262924  [51200/60000]\n",
            "loss: 0.323968  [57600/60000]\n",
            "Done!\n"
          ]
        }
      ],
      "source": [
        "# Trains the model (Takes time using the CPU)\n",
        "for t in range(epochs):\n",
        "    print(f\"Epoch {t+1}\\n-------------------------------\")\n",
        "    train(train_dataloader, model, loss_fn, optimizer)\n",
        "print(\"Done!\")"
      ]
    },
    {
      "cell_type": "markdown",
      "metadata": {
        "id": "EH99awQ5l35u"
      },
      "source": [
        "## MNIST Testing"
      ]
    },
    {
      "cell_type": "code",
      "execution_count": 386,
      "metadata": {
        "colab": {
          "base_uri": "https://localhost:8080/"
        },
        "id": "0eQhVC6jJXOl",
        "outputId": "5733d31e-5c24-492b-f0de-58110e069989"
      },
      "outputs": [
        {
          "name": "stdout",
          "output_type": "stream",
          "text": [
            "Test Error: \n",
            " Accuracy: 94.2%, Avg loss: 0.201662 \n",
            "\n"
          ]
        }
      ],
      "source": [
        "resnet18preds, truelabels = test(test_dataloader,resnet18,loss_fn)"
      ]
    },
    {
      "cell_type": "code",
      "execution_count": null,
      "metadata": {
        "colab": {
          "base_uri": "https://localhost:8080/"
        },
        "id": "b4ez545qqSST",
        "outputId": "c3862eaf-62ba-4489-ede1-6afb12326231"
      },
      "outputs": [],
      "source": [
        "# Simply outputs predictions and original values\n",
        "#print(resnet18preds)\n",
        "#print(truelabels)"
      ]
    },
    {
      "cell_type": "code",
      "execution_count": 387,
      "metadata": {
        "colab": {
          "base_uri": "https://localhost:8080/",
          "height": 442
        },
        "id": "6AS3qSnYwvXw",
        "outputId": "199f3810-9dea-41c2-8d40-5770ec1a9de4"
      },
      "outputs": [
        {
          "data": {
            "image/png": "[encoded data removed]",
            "text/plain": [
              "<Figure size 576x504 with 2 Axes>"
            ]
          },
          "metadata": {
            "needs_background": "light"
          },
          "output_type": "display_data"
        }
      ],
      "source": [
        "buildConfusionMatrix(truelabels, resnet18preds, [0,1,2,3,4,5,6,7,8,9])"
      ]
    },
    {
      "cell_type": "code",
      "execution_count": 388,
      "metadata": {
        "colab": {
          "base_uri": "https://localhost:8080/"
        },
        "id": "Zgjltgdxl7k8",
        "outputId": "248ebaba-f7d2-4560-e9fc-27815bb996cc"
      },
      "outputs": [
        {
          "name": "stdout",
          "output_type": "stream",
          "text": [
            "Overall Accuracy: 0.9418, Precision: 0.9417402507507784, Recall: 0.9414392841047377, F1-Score: 0.9414516903050812\n"
          ]
        },
        {
          "data": {
            "text/plain": [
              "(0.9418, 0.9417402507507784, 0.9414392841047377, 0.9414516903050812)"
            ]
          },
          "execution_count": 388,
          "metadata": {},
          "output_type": "execute_result"
        }
      ],
      "source": [
        "getMetrics(truelabels, resnet18preds)"
      ]
    },
    {
      "cell_type": "markdown",
      "metadata": {
        "id": "E0I-Z1JIq06x"
      },
      "source": [
        "The MNIST datasets were obtained by using the Datasets and Dataloaders library functions to download both the 60,000 image training set, and 10,000 image test set. These images were then normalized to reduce the range of values in each tensor. There was no need to resize the images, as all of the images in MNIST are 28x28.\n",
        "\n",
        "Because the prebuilt resnet18 model from Pytorch only works with 3-channel images, I modified the first convolutional layer to handle single-channel (gray-scale) images.\n",
        "\n",
        "Then I trained the custom ResNet18 network with the 60,000 training images, and let it use a Gradient Descent optimizer and Cross Entropy loss function.\n",
        "\n",
        "After testing the model on the 10,000 image test set, I was able to plot the confusion matrix and metrics using the respective `buildConfusionMatrix` and `getMetrics` functions above.\n",
        "\n",
        "The test set caused some inaccuracies, but the F1-score and Accuracy are both near 1."
      ]
    }
  ],
  "metadata": {
    "colab": {
      "collapsed_sections": [],
      "name": "Project1.ipynb",
      "provenance": []
    },
    "kernelspec": {
      "display_name": "Python 3",
      "name": "python3"
    },
    "language_info": {
      "name": "python"
    }
  },
  "nbformat": 4,
  "nbformat_minor": 0
}
